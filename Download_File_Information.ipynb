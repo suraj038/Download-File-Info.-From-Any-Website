{
 "cells": [
  {
   "cell_type": "code",
   "execution_count": 3,
   "metadata": {},
   "outputs": [],
   "source": [
    "#Downloading a file from internet\n",
    "from urllib import request\n",
    "file_url = r'https://en.wikipedia.org/wiki/Text_messaging#Records_and_competition'\n",
    "\n",
    "def download_file_information(url):\n",
    "    #open the url file\n",
    "    fileopen = request.urlopen(url)\n",
    "    #read the file\n",
    "    file_info = fileopen.read()\n",
    "    #convert into string\n",
    "    file_info_str = str(file_info)\n",
    "    #split the lines into the file\n",
    "    file_lines = file_info_str.split('\\\\n')\n",
    "    \n",
    "    #creating a new file to store information\n",
    "    newfile = open('file.txt',\"w\")\n",
    "    #store all information of the file we have read\n",
    "    for info in file_lines:\n",
    "        newfile.write(info + '\\n')\n",
    "    #close the file\n",
    "    newfile.close()\n",
    "download_file_information(file_url)\n",
    "    "
   ]
  }
 ],
 "metadata": {
  "kernelspec": {
   "display_name": "Python 3",
   "language": "python",
   "name": "python3"
  },
  "language_info": {
   "codemirror_mode": {
    "name": "ipython",
    "version": 3
   },
   "file_extension": ".py",
   "mimetype": "text/x-python",
   "name": "python",
   "nbconvert_exporter": "python",
   "pygments_lexer": "ipython3",
   "version": "3.6.7"
  }
 },
 "nbformat": 4,
 "nbformat_minor": 2
}
